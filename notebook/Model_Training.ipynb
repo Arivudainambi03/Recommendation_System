{
 "cells": [
  {
   "cell_type": "code",
   "execution_count": 1,
   "id": "94d8c655-4dcd-4550-9897-622c4caeb55e",
   "metadata": {},
   "outputs": [],
   "source": [
    "import pandas as pd\n",
    "import numpy as np"
   ]
  },
  {
   "cell_type": "code",
   "execution_count": 2,
   "id": "638a826c-9990-4f9a-952c-7a376380c5d3",
   "metadata": {},
   "outputs": [],
   "source": [
    "df = pd.read_csv(r'data\\Electronics_Dataset.csv', header = None)"
   ]
  },
  {
   "cell_type": "code",
   "execution_count": 3,
   "id": "3add9d4f-ea28-4035-99e2-56dc96b6a5a7",
   "metadata": {},
   "outputs": [],
   "source": [
    "df.columns = ['user_id', 'prod_id', 'rating', 'timestamp']"
   ]
  },
  {
   "cell_type": "code",
   "execution_count": 4,
   "id": "b7e92aa5-3fff-475c-98ef-a9433c10e749",
   "metadata": {},
   "outputs": [
    {
     "data": {
      "text/plain": [
       "(7824482, 4)"
      ]
     },
     "execution_count": 4,
     "metadata": {},
     "output_type": "execute_result"
    }
   ],
   "source": [
    "df.shape"
   ]
  },
  {
   "cell_type": "code",
   "execution_count": 5,
   "id": "a172a14d-cd3f-4d41-927f-740e9e0c62f5",
   "metadata": {},
   "outputs": [
    {
     "data": {
      "text/plain": [
       "Index(['user_id', 'prod_id', 'rating', 'timestamp'], dtype='object')"
      ]
     },
     "execution_count": 5,
     "metadata": {},
     "output_type": "execute_result"
    }
   ],
   "source": [
    "df.columns"
   ]
  },
  {
   "cell_type": "code",
   "execution_count": 6,
   "id": "7b175d37-212e-4953-8632-f96c94a1cc1c",
   "metadata": {},
   "outputs": [
    {
     "data": {
      "text/html": [
       "<div>\n",
       "<style scoped>\n",
       "    .dataframe tbody tr th:only-of-type {\n",
       "        vertical-align: middle;\n",
       "    }\n",
       "\n",
       "    .dataframe tbody tr th {\n",
       "        vertical-align: top;\n",
       "    }\n",
       "\n",
       "    .dataframe thead th {\n",
       "        text-align: right;\n",
       "    }\n",
       "</style>\n",
       "<table border=\"1\" class=\"dataframe\">\n",
       "  <thead>\n",
       "    <tr style=\"text-align: right;\">\n",
       "      <th></th>\n",
       "      <th>user_id</th>\n",
       "      <th>prod_id</th>\n",
       "      <th>rating</th>\n",
       "      <th>timestamp</th>\n",
       "    </tr>\n",
       "  </thead>\n",
       "  <tbody>\n",
       "    <tr>\n",
       "      <th>0</th>\n",
       "      <td>AKM1MP6P0OYPR</td>\n",
       "      <td>0132793040</td>\n",
       "      <td>5.0</td>\n",
       "      <td>1365811200</td>\n",
       "    </tr>\n",
       "    <tr>\n",
       "      <th>1</th>\n",
       "      <td>A2CX7LUOHB2NDG</td>\n",
       "      <td>0321732944</td>\n",
       "      <td>5.0</td>\n",
       "      <td>1341100800</td>\n",
       "    </tr>\n",
       "    <tr>\n",
       "      <th>2</th>\n",
       "      <td>A2NWSAGRHCP8N5</td>\n",
       "      <td>0439886341</td>\n",
       "      <td>1.0</td>\n",
       "      <td>1367193600</td>\n",
       "    </tr>\n",
       "    <tr>\n",
       "      <th>3</th>\n",
       "      <td>A2WNBOD3WNDNKT</td>\n",
       "      <td>0439886341</td>\n",
       "      <td>3.0</td>\n",
       "      <td>1374451200</td>\n",
       "    </tr>\n",
       "    <tr>\n",
       "      <th>4</th>\n",
       "      <td>A1GI0U4ZRJA8WN</td>\n",
       "      <td>0439886341</td>\n",
       "      <td>1.0</td>\n",
       "      <td>1334707200</td>\n",
       "    </tr>\n",
       "  </tbody>\n",
       "</table>\n",
       "</div>"
      ],
      "text/plain": [
       "          user_id     prod_id  rating   timestamp\n",
       "0   AKM1MP6P0OYPR  0132793040     5.0  1365811200\n",
       "1  A2CX7LUOHB2NDG  0321732944     5.0  1341100800\n",
       "2  A2NWSAGRHCP8N5  0439886341     1.0  1367193600\n",
       "3  A2WNBOD3WNDNKT  0439886341     3.0  1374451200\n",
       "4  A1GI0U4ZRJA8WN  0439886341     1.0  1334707200"
      ]
     },
     "execution_count": 6,
     "metadata": {},
     "output_type": "execute_result"
    }
   ],
   "source": [
    "df.head()"
   ]
  },
  {
   "cell_type": "markdown",
   "id": "447e49cc-5537-47d9-944f-e25db2dc092d",
   "metadata": {},
   "source": [
    "# packges"
   ]
  },
  {
   "cell_type": "code",
   "execution_count": 7,
   "id": "034b650d-8024-42c0-893e-ad98312a8d4d",
   "metadata": {},
   "outputs": [],
   "source": [
    "import matplotlib.pyplot as plt\n",
    "from surprise import Dataset\n",
    "from surprise import Reader\n",
    "from surprise.model_selection import train_test_split\n",
    "from surprise import accuracy\n",
    "from surprise.model_selection import GridSearchCV\n",
    "from surprise import SVD"
   ]
  },
  {
   "cell_type": "code",
   "execution_count": 8,
   "id": "e2f8c35b-d068-44b2-81b0-4dc332d84346",
   "metadata": {},
   "outputs": [
    {
     "data": {
      "text/plain": [
       "4201696"
      ]
     },
     "execution_count": 8,
     "metadata": {},
     "output_type": "execute_result"
    }
   ],
   "source": [
    "df.user_id.nunique()"
   ]
  },
  {
   "cell_type": "code",
   "execution_count": 9,
   "id": "13e125cd-c4a2-4ed6-9344-210177a538e7",
   "metadata": {},
   "outputs": [
    {
     "data": {
      "text/plain": [
       "476002"
      ]
     },
     "execution_count": 9,
     "metadata": {},
     "output_type": "execute_result"
    }
   ],
   "source": [
    "df.prod_id.nunique()"
   ]
  },
  {
   "cell_type": "code",
   "execution_count": 10,
   "id": "7404f51f-899c-4339-a199-f6fb652c9e7c",
   "metadata": {},
   "outputs": [
    {
     "data": {
      "text/plain": [
       "rating\n",
       "5.0    4347541\n",
       "4.0    1485781\n",
       "1.0     901765\n",
       "3.0     633073\n",
       "2.0     456322\n",
       "Name: count, dtype: int64"
      ]
     },
     "execution_count": 10,
     "metadata": {},
     "output_type": "execute_result"
    }
   ],
   "source": [
    "df.rating.value_counts()"
   ]
  },
  {
   "cell_type": "code",
   "execution_count": 11,
   "id": "1c183104-7505-49b3-8e97-3917e1dde489",
   "metadata": {},
   "outputs": [
    {
     "data": {
      "text/plain": [
       "1.8622199226217222"
      ]
     },
     "execution_count": 11,
     "metadata": {},
     "output_type": "execute_result"
    }
   ],
   "source": [
    "df.groupby(by = 'user_id')['rating'].count().mean()"
   ]
  },
  {
   "cell_type": "code",
   "execution_count": 12,
   "id": "9b898cfc-5c29-4bd5-86be-9511fac9b56f",
   "metadata": {},
   "outputs": [
    {
     "data": {
      "text/plain": [
       "prod_id\n",
       "B0074BW614    18244\n",
       "B00DR0PDNE    16454\n",
       "B007WTAJTO    14172\n",
       "B0019EHU8G    12285\n",
       "B006GWO5WK    12226\n",
       "B003ELYQGG    11617\n",
       "B003ES5ZUU    10276\n",
       "B007R5YDYA     9907\n",
       "B00622AG6S     9823\n",
       "B0002L5R78     9487\n",
       "Name: count, dtype: int64"
      ]
     },
     "execution_count": 12,
     "metadata": {},
     "output_type": "execute_result"
    }
   ],
   "source": [
    "df['prod_id'].value_counts().nlargest(10)"
   ]
  },
  {
   "cell_type": "markdown",
   "id": "762d8d68-01ef-44e6-b98e-f6ee62cf66ad",
   "metadata": {},
   "source": [
    "# remove the timestamp"
   ]
  },
  {
   "cell_type": "code",
   "execution_count": 13,
   "id": "a8674887-df91-42e8-a594-beae8c6cf61f",
   "metadata": {},
   "outputs": [],
   "source": [
    "data = df.drop(columns = ['timestamp'])"
   ]
  },
  {
   "cell_type": "code",
   "execution_count": 14,
   "id": "03b1823e-02d7-42ef-a562-a0861f11ab80",
   "metadata": {},
   "outputs": [
    {
     "data": {
      "text/html": [
       "<div>\n",
       "<style scoped>\n",
       "    .dataframe tbody tr th:only-of-type {\n",
       "        vertical-align: middle;\n",
       "    }\n",
       "\n",
       "    .dataframe tbody tr th {\n",
       "        vertical-align: top;\n",
       "    }\n",
       "\n",
       "    .dataframe thead th {\n",
       "        text-align: right;\n",
       "    }\n",
       "</style>\n",
       "<table border=\"1\" class=\"dataframe\">\n",
       "  <thead>\n",
       "    <tr style=\"text-align: right;\">\n",
       "      <th></th>\n",
       "      <th>user_id</th>\n",
       "      <th>prod_id</th>\n",
       "      <th>rating</th>\n",
       "    </tr>\n",
       "  </thead>\n",
       "  <tbody>\n",
       "    <tr>\n",
       "      <th>0</th>\n",
       "      <td>AKM1MP6P0OYPR</td>\n",
       "      <td>0132793040</td>\n",
       "      <td>5.0</td>\n",
       "    </tr>\n",
       "    <tr>\n",
       "      <th>1</th>\n",
       "      <td>A2CX7LUOHB2NDG</td>\n",
       "      <td>0321732944</td>\n",
       "      <td>5.0</td>\n",
       "    </tr>\n",
       "    <tr>\n",
       "      <th>2</th>\n",
       "      <td>A2NWSAGRHCP8N5</td>\n",
       "      <td>0439886341</td>\n",
       "      <td>1.0</td>\n",
       "    </tr>\n",
       "    <tr>\n",
       "      <th>3</th>\n",
       "      <td>A2WNBOD3WNDNKT</td>\n",
       "      <td>0439886341</td>\n",
       "      <td>3.0</td>\n",
       "    </tr>\n",
       "    <tr>\n",
       "      <th>4</th>\n",
       "      <td>A1GI0U4ZRJA8WN</td>\n",
       "      <td>0439886341</td>\n",
       "      <td>1.0</td>\n",
       "    </tr>\n",
       "  </tbody>\n",
       "</table>\n",
       "</div>"
      ],
      "text/plain": [
       "          user_id     prod_id  rating\n",
       "0   AKM1MP6P0OYPR  0132793040     5.0\n",
       "1  A2CX7LUOHB2NDG  0321732944     5.0\n",
       "2  A2NWSAGRHCP8N5  0439886341     1.0\n",
       "3  A2WNBOD3WNDNKT  0439886341     3.0\n",
       "4  A1GI0U4ZRJA8WN  0439886341     1.0"
      ]
     },
     "execution_count": 14,
     "metadata": {},
     "output_type": "execute_result"
    }
   ],
   "source": [
    "data.head()"
   ]
  },
  {
   "cell_type": "markdown",
   "id": "cdd11e1d-8059-456a-94f2-3fa735548431",
   "metadata": {},
   "source": [
    "# colabrative filtering"
   ]
  },
  {
   "cell_type": "code",
   "execution_count": 15,
   "id": "51f7990d-b5dc-49b0-a4a4-81f731a09a90",
   "metadata": {},
   "outputs": [],
   "source": [
    "rating_count = data.groupby(by = 'prod_id')['rating'].count()"
   ]
  },
  {
   "cell_type": "code",
   "execution_count": 16,
   "id": "84db5758-3a48-49a1-b4d2-90b621e5db97",
   "metadata": {},
   "outputs": [],
   "source": [
    "popular_products = rating_count[rating_count >= 1000].index"
   ]
  },
  {
   "cell_type": "code",
   "execution_count": 17,
   "id": "10006665-95a6-472a-8374-6dc088400cfd",
   "metadata": {},
   "outputs": [],
   "source": [
    "rec_data = data[data['prod_id'].isin(popular_products)]"
   ]
  },
  {
   "cell_type": "code",
   "execution_count": 18,
   "id": "8b292182-381f-4a50-9d67-54a58c280890",
   "metadata": {},
   "outputs": [],
   "source": [
    "reader = Reader(rating_scale = (1,5))"
   ]
  },
  {
   "cell_type": "code",
   "execution_count": 19,
   "id": "48053d9a-d7ce-43e6-8be6-4f1d5f52ee58",
   "metadata": {},
   "outputs": [
    {
     "data": {
      "text/plain": [
       "<surprise.reader.Reader at 0x1c998aac2b0>"
      ]
     },
     "execution_count": 19,
     "metadata": {},
     "output_type": "execute_result"
    }
   ],
   "source": [
    "reader"
   ]
  },
  {
   "cell_type": "code",
   "execution_count": 20,
   "id": "a5d5365e-1f33-4bd6-adb8-73b21ea1326a",
   "metadata": {},
   "outputs": [],
   "source": [
    "reader_data = Dataset.load_from_df(rec_data, reader)"
   ]
  },
  {
   "cell_type": "code",
   "execution_count": 21,
   "id": "098f3292-6dd1-44b9-af9c-050b1f0b1754",
   "metadata": {},
   "outputs": [],
   "source": [
    "trainset, testset = train_test_split(reader_data, test_size = 0.25, random_state = 19)"
   ]
  },
  {
   "cell_type": "code",
   "execution_count": 22,
   "id": "e05750ab-0d03-4b26-a5ac-f4906396f4dc",
   "metadata": {},
   "outputs": [],
   "source": [
    "# normal predictor"
   ]
  },
  {
   "cell_type": "code",
   "execution_count": 23,
   "id": "dc86ad55-b702-41bf-ac67-bfad4c70afc9",
   "metadata": {},
   "outputs": [],
   "source": [
    "from surprise import NormalPredictor"
   ]
  },
  {
   "cell_type": "code",
   "execution_count": 24,
   "id": "1582adb2-940e-4e6d-9070-b16463c98ddd",
   "metadata": {},
   "outputs": [
    {
     "data": {
      "text/plain": [
       "<surprise.prediction_algorithms.random_pred.NormalPredictor at 0x1c998aad3f0>"
      ]
     },
     "execution_count": 24,
     "metadata": {},
     "output_type": "execute_result"
    }
   ],
   "source": [
    "algo = NormalPredictor()\n",
    "algo.fit(trainset)"
   ]
  },
  {
   "cell_type": "code",
   "execution_count": 25,
   "id": "f12d53b9-d78b-4349-aaa2-2c593eca6016",
   "metadata": {},
   "outputs": [],
   "source": [
    "test_pred = algo.test(testset)"
   ]
  },
  {
   "cell_type": "code",
   "execution_count": 26,
   "id": "423d03da-ec0c-4514-82dc-51f8ee420666",
   "metadata": {},
   "outputs": [
    {
     "name": "stdout",
     "output_type": "stream",
     "text": [
      "RMSE: 1.5875\n"
     ]
    },
    {
     "data": {
      "text/plain": [
       "1.58752560508856"
      ]
     },
     "execution_count": 26,
     "metadata": {},
     "output_type": "execute_result"
    }
   ],
   "source": [
    "accuracy.rmse(test_pred)"
   ]
  },
  {
   "cell_type": "markdown",
   "id": "c46b97d8-0bfd-4b4a-b272-b23a0bfd7fe0",
   "metadata": {},
   "source": [
    "# KNN Baseline"
   ]
  },
  {
   "cell_type": "code",
   "execution_count": 27,
   "id": "09b759af-ce77-4c22-ba39-8ce5fef0134a",
   "metadata": {},
   "outputs": [],
   "source": [
    "from surprise import KNNBaseline"
   ]
  },
  {
   "cell_type": "code",
   "execution_count": 28,
   "id": "7bfa0a3f-d1ce-463c-a7ba-912cd9517c33",
   "metadata": {},
   "outputs": [],
   "source": [
    "sim_option = {'name' : \"cosine\", 'user_based' : False}"
   ]
  },
  {
   "cell_type": "code",
   "execution_count": 29,
   "id": "7799a8e2-df6e-4ee2-ac36-4a8a2333766a",
   "metadata": {},
   "outputs": [],
   "source": [
    "algo_knn = KNNBaseline(sim_options=sim_option)"
   ]
  },
  {
   "cell_type": "code",
   "execution_count": 30,
   "id": "39aa54a0-633d-480f-8e4d-06e23b26ff6a",
   "metadata": {},
   "outputs": [
    {
     "name": "stdout",
     "output_type": "stream",
     "text": [
      "Estimating biases using als...\n",
      "Computing the cosine similarity matrix...\n",
      "Done computing similarity matrix.\n"
     ]
    },
    {
     "data": {
      "text/plain": [
       "<surprise.prediction_algorithms.knns.KNNBaseline at 0x1c998a5ee30>"
      ]
     },
     "execution_count": 30,
     "metadata": {},
     "output_type": "execute_result"
    }
   ],
   "source": [
    "algo_knn.fit(trainset)"
   ]
  },
  {
   "cell_type": "code",
   "execution_count": 31,
   "id": "acd26628-7720-4b61-830a-4ea73fbf2b30",
   "metadata": {},
   "outputs": [],
   "source": [
    "train_algo = algo_knn.test(trainset.build_testset())"
   ]
  },
  {
   "cell_type": "code",
   "execution_count": 32,
   "id": "a0535615-6da2-4908-9c86-6befe82d52c0",
   "metadata": {},
   "outputs": [],
   "source": [
    "test_algo = algo.test(testset)"
   ]
  },
  {
   "cell_type": "code",
   "execution_count": 33,
   "id": "1f7f7f8e-cb8c-455e-9b4b-ce3b020289e9",
   "metadata": {},
   "outputs": [
    {
     "name": "stdout",
     "output_type": "stream",
     "text": [
      "RMSE: 0.3908\n",
      "RMSE: 1.5852\n"
     ]
    }
   ],
   "source": [
    "Rmse_Knn_train = accuracy.rmse(train_algo)\n",
    "Rmse_knn_test = accuracy.rmse(test_algo)"
   ]
  },
  {
   "cell_type": "markdown",
   "id": "e128a0a5-ede5-432f-b0c9-d79c780b3f8a",
   "metadata": {},
   "source": [
    "# define the param grid"
   ]
  },
  {
   "cell_type": "code",
   "execution_count": 37,
   "id": "f1852bff-7226-4030-bf85-d97593ec9892",
   "metadata": {},
   "outputs": [],
   "source": [
    "param_grid = { 'k' :[10, 50, 100], \n",
    "              'sim_options': {'name':['msd', 'cosine'],\n",
    "                             'user_based': [False]\n",
    "                             }}"
   ]
  },
  {
   "cell_type": "code",
   "execution_count": 38,
   "id": "e3686ecc-0a3f-425a-84a2-247d696d20fa",
   "metadata": {},
   "outputs": [],
   "source": [
    "gs = GridSearchCV(KNNBaseline, param_grid = param_grid, measures=['rmse'], cv = 3)"
   ]
  },
  {
   "cell_type": "code",
   "execution_count": 39,
   "id": "7a911482-eac5-4a7f-b972-b6096df80352",
   "metadata": {},
   "outputs": [
    {
     "name": "stdout",
     "output_type": "stream",
     "text": [
      "Estimating biases using als...\n",
      "Computing the msd similarity matrix...\n",
      "Done computing similarity matrix.\n",
      "Estimating biases using als...\n",
      "Computing the msd similarity matrix...\n",
      "Done computing similarity matrix.\n",
      "Estimating biases using als...\n",
      "Computing the msd similarity matrix...\n",
      "Done computing similarity matrix.\n",
      "Estimating biases using als...\n",
      "Computing the cosine similarity matrix...\n",
      "Done computing similarity matrix.\n",
      "Estimating biases using als...\n",
      "Computing the cosine similarity matrix...\n",
      "Done computing similarity matrix.\n",
      "Estimating biases using als...\n",
      "Computing the cosine similarity matrix...\n",
      "Done computing similarity matrix.\n",
      "Estimating biases using als...\n",
      "Computing the msd similarity matrix...\n",
      "Done computing similarity matrix.\n",
      "Estimating biases using als...\n",
      "Computing the msd similarity matrix...\n",
      "Done computing similarity matrix.\n",
      "Estimating biases using als...\n",
      "Computing the msd similarity matrix...\n",
      "Done computing similarity matrix.\n",
      "Estimating biases using als...\n",
      "Computing the cosine similarity matrix...\n",
      "Done computing similarity matrix.\n",
      "Estimating biases using als...\n",
      "Computing the cosine similarity matrix...\n",
      "Done computing similarity matrix.\n",
      "Estimating biases using als...\n",
      "Computing the cosine similarity matrix...\n",
      "Done computing similarity matrix.\n",
      "Estimating biases using als...\n",
      "Computing the msd similarity matrix...\n",
      "Done computing similarity matrix.\n",
      "Estimating biases using als...\n",
      "Computing the msd similarity matrix...\n",
      "Done computing similarity matrix.\n",
      "Estimating biases using als...\n",
      "Computing the msd similarity matrix...\n",
      "Done computing similarity matrix.\n",
      "Estimating biases using als...\n",
      "Computing the cosine similarity matrix...\n",
      "Done computing similarity matrix.\n",
      "Estimating biases using als...\n",
      "Computing the cosine similarity matrix...\n",
      "Done computing similarity matrix.\n",
      "Estimating biases using als...\n",
      "Computing the cosine similarity matrix...\n",
      "Done computing similarity matrix.\n"
     ]
    }
   ],
   "source": [
    "gs.fit(reader_data)"
   ]
  },
  {
   "cell_type": "code",
   "execution_count": 42,
   "id": "85c03e2b-b741-4429-a927-721c44dc3f2b",
   "metadata": {},
   "outputs": [
    {
     "name": "stdout",
     "output_type": "stream",
     "text": [
      "The best Score is 1.23, and the best parameter is {'k': 50, 'sim_options': {'name': 'cosine', 'user_based': False}}.\n"
     ]
    }
   ],
   "source": [
    "print(f\"The best Score is {round(gs.best_score['rmse'], 2)}, and the best parameter is {gs.best_params['rmse']}.\")"
   ]
  },
  {
   "cell_type": "markdown",
   "id": "b87ccb4b-7922-4d09-9aca-0f48327deb8c",
   "metadata": {},
   "source": [
    "# SVD"
   ]
  },
  {
   "cell_type": "code",
   "execution_count": 43,
   "id": "9a0c2f8b-4e36-4eb5-a369-08bf9c6a622a",
   "metadata": {},
   "outputs": [],
   "source": [
    "svd_algo = SVD()"
   ]
  },
  {
   "cell_type": "code",
   "execution_count": 44,
   "id": "de4b0842-d25b-4915-afc3-4718c9d17fc7",
   "metadata": {},
   "outputs": [
    {
     "data": {
      "text/plain": [
       "<surprise.prediction_algorithms.matrix_factorization.SVD at 0x1ca59d06410>"
      ]
     },
     "execution_count": 44,
     "metadata": {},
     "output_type": "execute_result"
    }
   ],
   "source": [
    "svd_algo.fit(trainset)"
   ]
  },
  {
   "cell_type": "code",
   "execution_count": 45,
   "id": "aa41d031-7356-4a69-b7fd-f4a331c8cfee",
   "metadata": {},
   "outputs": [],
   "source": [
    "train_pred = svd_algo.test(trainset.build_testset())\n",
    "test_pred = svd_algo.test(testset)"
   ]
  },
  {
   "cell_type": "code",
   "execution_count": 46,
   "id": "01008018-56eb-4987-a68e-a81db10dec3b",
   "metadata": {},
   "outputs": [
    {
     "name": "stdout",
     "output_type": "stream",
     "text": [
      "RMSE: 0.5395\n",
      "RMSE: 1.2029\n"
     ]
    }
   ],
   "source": [
    "RMSE_train = accuracy.rmse(train_pred)\n",
    "RMSE_test = accuracy.rmse(test_pred)"
   ]
  },
  {
   "cell_type": "code",
   "execution_count": 47,
   "id": "2c9d162f-7b45-46e5-9948-1453a31f75fa",
   "metadata": {},
   "outputs": [],
   "source": [
    "# Param Grid\n",
    "para_grid = {\"n_epochs\": [5,10,15],\n",
    "            \"lr_all\": [0.002, 0.005, 0.007],\n",
    "            \"reg_all\" : [0.4, 0.6]}\n",
    "\n",
    "gs = GridSearchCV(SVD, para_grid, measures = ['rmse'], cv = 3)"
   ]
  },
  {
   "cell_type": "code",
   "execution_count": 48,
   "id": "1bbf582a-dd71-4736-9818-f13a98151b8f",
   "metadata": {},
   "outputs": [],
   "source": [
    "gs.fit(reader_data)"
   ]
  },
  {
   "cell_type": "code",
   "execution_count": 49,
   "id": "4fc3c400-3346-4a2e-b475-49f5142a1953",
   "metadata": {},
   "outputs": [
    {
     "name": "stdout",
     "output_type": "stream",
     "text": [
      "The best Score is 1.2, and the best parameter is {'n_epochs': 15, 'lr_all': 0.007, 'reg_all': 0.4}.\n"
     ]
    }
   ],
   "source": [
    "print(f\"The best Score is {round(gs.best_score['rmse'], 2)}, and the best parameter is {gs.best_params['rmse']}.\")"
   ]
  },
  {
   "cell_type": "code",
   "execution_count": 50,
   "id": "48a54a39-97f9-40ee-950e-b8acd8c1eadd",
   "metadata": {},
   "outputs": [],
   "source": [
    "import random \n",
    "\n",
    "random.seed(0)"
   ]
  },
  {
   "cell_type": "code",
   "execution_count": 51,
   "id": "0c8896ce-88b1-4d4d-b1a0-3bc275650189",
   "metadata": {},
   "outputs": [],
   "source": [
    "random_test_samples = random.sample(testset, 10)"
   ]
  },
  {
   "cell_type": "code",
   "execution_count": 52,
   "id": "45ba8919-fff1-47b2-8135-f88b3d6c049e",
   "metadata": {},
   "outputs": [],
   "source": [
    "prediction = [svd_algo.predict(uid, iid, r_ui) for (uid, iid, r_ui) in random_test_samples]"
   ]
  },
  {
   "cell_type": "code",
   "execution_count": 57,
   "id": "69273944-7fad-4324-bba2-4a9317d04853",
   "metadata": {},
   "outputs": [
    {
     "name": "stdout",
     "output_type": "stream",
     "text": [
      "User: A3G4LC66GBUPRS, Item:B003ZSP0WW, Acutual Rating: 4.0, Predction Rating : 4.53 and the difference is -0.5250296931904561\n",
      "User: AXCQ917STWHIX, Item:B00622AG6S, Acutual Rating: 5.0, Predction Rating : 4.35 and the difference is 0.6507419059433301\n",
      "User: AXK9SEMV8OHJO, Item:B007OY5V68, Acutual Rating: 5.0, Predction Rating : 4.42 and the difference is 0.5796695535498015\n",
      "User: A36QCY2E4SW11S, Item:B0088LYCZC, Acutual Rating: 4.0, Predction Rating : 3.93 and the difference is 0.06840122157174111\n",
      "User: A127O6CWXTMSTU, Item:B000IJY8DS, Acutual Rating: 3.0, Predction Rating : 4.34 and the difference is -1.3437955077520494\n",
      "User: A200BPGA53VKZ0, Item:B003SX0P1A, Acutual Rating: 5.0, Predction Rating : 4.50 and the difference is 0.4988903724281073\n",
      "User: A3A1V7N6QNHA2D, Item:B004PEIG12, Acutual Rating: 2.0, Predction Rating : 4.10 and the difference is -2.095798949066654\n",
      "User: A2V8I8BXL8OZ2M, Item:B005I7KIUW, Acutual Rating: 5.0, Predction Rating : 3.98 and the difference is 1.0206750531699322\n",
      "User: ATIY8WPSZBXCE, Item:B008R7EVE4, Acutual Rating: 5.0, Predction Rating : 4.40 and the difference is 0.5978603189619216\n",
      "User: A1K9LHOWOCYVBZ, Item:B003ZX8B3W, Acutual Rating: 4.0, Predction Rating : 3.79 and the difference is 0.20768528772230033\n"
     ]
    }
   ],
   "source": [
    "lst = []\n",
    "for pred in prediction:\n",
    "    print(f\"User: {pred.uid}, Item:{pred.iid}, Acutual Rating: {pred.r_ui}, Predction Rating : {pred.est:.2f} and the difference is {float(pred.r_ui) - float(pred.est)}\")\n",
    "    lst.append({\"User\": pred.uid, \"Item\": pred.iid, \"Acutual Rating\": pred.r_ui, \"Predction Rating\": pred.est ,\"difference\" : float(pred.r_ui) - float(pred.est)})"
   ]
  },
  {
   "cell_type": "code",
   "execution_count": 58,
   "id": "ea2cd19c-a523-4c8b-9b55-37567018cc17",
   "metadata": {},
   "outputs": [],
   "source": [
    "import pandas as pd\n",
    "\n",
    "df = pd.DataFrame(lst)\n"
   ]
  },
  {
   "cell_type": "code",
   "execution_count": 59,
   "id": "9633ee19-6a0e-416b-9f25-d97b777ba0ac",
   "metadata": {},
   "outputs": [
    {
     "data": {
      "text/html": [
       "<div>\n",
       "<style scoped>\n",
       "    .dataframe tbody tr th:only-of-type {\n",
       "        vertical-align: middle;\n",
       "    }\n",
       "\n",
       "    .dataframe tbody tr th {\n",
       "        vertical-align: top;\n",
       "    }\n",
       "\n",
       "    .dataframe thead th {\n",
       "        text-align: right;\n",
       "    }\n",
       "</style>\n",
       "<table border=\"1\" class=\"dataframe\">\n",
       "  <thead>\n",
       "    <tr style=\"text-align: right;\">\n",
       "      <th></th>\n",
       "      <th>User</th>\n",
       "      <th>Item</th>\n",
       "      <th>Acutual Rating</th>\n",
       "      <th>Predction Rating</th>\n",
       "      <th>difference</th>\n",
       "    </tr>\n",
       "  </thead>\n",
       "  <tbody>\n",
       "    <tr>\n",
       "      <th>0</th>\n",
       "      <td>A3G4LC66GBUPRS</td>\n",
       "      <td>B003ZSP0WW</td>\n",
       "      <td>4.0</td>\n",
       "      <td>4.525030</td>\n",
       "      <td>-0.525030</td>\n",
       "    </tr>\n",
       "    <tr>\n",
       "      <th>1</th>\n",
       "      <td>AXCQ917STWHIX</td>\n",
       "      <td>B00622AG6S</td>\n",
       "      <td>5.0</td>\n",
       "      <td>4.349258</td>\n",
       "      <td>0.650742</td>\n",
       "    </tr>\n",
       "    <tr>\n",
       "      <th>2</th>\n",
       "      <td>AXK9SEMV8OHJO</td>\n",
       "      <td>B007OY5V68</td>\n",
       "      <td>5.0</td>\n",
       "      <td>4.420330</td>\n",
       "      <td>0.579670</td>\n",
       "    </tr>\n",
       "    <tr>\n",
       "      <th>3</th>\n",
       "      <td>A36QCY2E4SW11S</td>\n",
       "      <td>B0088LYCZC</td>\n",
       "      <td>4.0</td>\n",
       "      <td>3.931599</td>\n",
       "      <td>0.068401</td>\n",
       "    </tr>\n",
       "    <tr>\n",
       "      <th>4</th>\n",
       "      <td>A127O6CWXTMSTU</td>\n",
       "      <td>B000IJY8DS</td>\n",
       "      <td>3.0</td>\n",
       "      <td>4.343796</td>\n",
       "      <td>-1.343796</td>\n",
       "    </tr>\n",
       "    <tr>\n",
       "      <th>5</th>\n",
       "      <td>A200BPGA53VKZ0</td>\n",
       "      <td>B003SX0P1A</td>\n",
       "      <td>5.0</td>\n",
       "      <td>4.501110</td>\n",
       "      <td>0.498890</td>\n",
       "    </tr>\n",
       "    <tr>\n",
       "      <th>6</th>\n",
       "      <td>A3A1V7N6QNHA2D</td>\n",
       "      <td>B004PEIG12</td>\n",
       "      <td>2.0</td>\n",
       "      <td>4.095799</td>\n",
       "      <td>-2.095799</td>\n",
       "    </tr>\n",
       "    <tr>\n",
       "      <th>7</th>\n",
       "      <td>A2V8I8BXL8OZ2M</td>\n",
       "      <td>B005I7KIUW</td>\n",
       "      <td>5.0</td>\n",
       "      <td>3.979325</td>\n",
       "      <td>1.020675</td>\n",
       "    </tr>\n",
       "    <tr>\n",
       "      <th>8</th>\n",
       "      <td>ATIY8WPSZBXCE</td>\n",
       "      <td>B008R7EVE4</td>\n",
       "      <td>5.0</td>\n",
       "      <td>4.402140</td>\n",
       "      <td>0.597860</td>\n",
       "    </tr>\n",
       "    <tr>\n",
       "      <th>9</th>\n",
       "      <td>A1K9LHOWOCYVBZ</td>\n",
       "      <td>B003ZX8B3W</td>\n",
       "      <td>4.0</td>\n",
       "      <td>3.792315</td>\n",
       "      <td>0.207685</td>\n",
       "    </tr>\n",
       "  </tbody>\n",
       "</table>\n",
       "</div>"
      ],
      "text/plain": [
       "             User        Item  Acutual Rating  Predction Rating  difference\n",
       "0  A3G4LC66GBUPRS  B003ZSP0WW             4.0          4.525030   -0.525030\n",
       "1   AXCQ917STWHIX  B00622AG6S             5.0          4.349258    0.650742\n",
       "2   AXK9SEMV8OHJO  B007OY5V68             5.0          4.420330    0.579670\n",
       "3  A36QCY2E4SW11S  B0088LYCZC             4.0          3.931599    0.068401\n",
       "4  A127O6CWXTMSTU  B000IJY8DS             3.0          4.343796   -1.343796\n",
       "5  A200BPGA53VKZ0  B003SX0P1A             5.0          4.501110    0.498890\n",
       "6  A3A1V7N6QNHA2D  B004PEIG12             2.0          4.095799   -2.095799\n",
       "7  A2V8I8BXL8OZ2M  B005I7KIUW             5.0          3.979325    1.020675\n",
       "8   ATIY8WPSZBXCE  B008R7EVE4             5.0          4.402140    0.597860\n",
       "9  A1K9LHOWOCYVBZ  B003ZX8B3W             4.0          3.792315    0.207685"
      ]
     },
     "execution_count": 59,
     "metadata": {},
     "output_type": "execute_result"
    }
   ],
   "source": [
    "df"
   ]
  },
  {
   "cell_type": "code",
   "execution_count": null,
   "id": "bd078ccc-02c3-4e9e-8d33-64223d1ce2fd",
   "metadata": {},
   "outputs": [],
   "source": []
  }
 ],
 "metadata": {
  "kernelspec": {
   "display_name": "Python 3",
   "language": "python",
   "name": "python3"
  },
  "language_info": {
   "codemirror_mode": {
    "name": "ipython",
    "version": 3
   },
   "file_extension": ".py",
   "mimetype": "text/x-python",
   "name": "python",
   "nbconvert_exporter": "python",
   "pygments_lexer": "ipython3",
   "version": "3.10.0"
  }
 },
 "nbformat": 4,
 "nbformat_minor": 5
}
